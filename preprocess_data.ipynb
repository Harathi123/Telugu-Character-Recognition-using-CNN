{
 "cells": [
  {
   "cell_type": "code",
   "execution_count": null,
   "metadata": {
    "collapsed": true
   },
   "outputs": [],
   "source": [
    "from PIL import Image\n",
    "import os\n",
    "import shutil\n",
    "\n",
    "for root, dirs, files in os.walk(\"data_copy\"):\n",
    "    if not files:\n",
    "        continue\n",
    "    prefix = os.path.basename(root)\n",
    "    for f in files:\n",
    "        os.rename(os.path.join(root, f), os.path.join(root, \"{}_{}\".format(prefix, f)))"
   ]
  },
  {
   "cell_type": "code",
   "execution_count": 2,
   "metadata": {
    "collapsed": true
   },
   "outputs": [],
   "source": [
    "cwd = os.getcwd()\n",
    "os.makedirs('dataset\\\\train1')\n",
    "os.makedirs('dataset\\\\test1')\n",
    "os.makedirs('dataset\\\\train')\n",
    "os.makedirs('dataset\\\\test')\n",
    "os.makedirs('dataset\\\\valid1')\n",
    "os.makedirs('dataset\\\\valid')\n",
    "fldrs = {'train1' : 'train', 'test1' : 'test', 'valid1' : 'valid'}\n",
    "def convert_to_jpeg(a, b):\n",
    "    for root, dir, files in os.walk(\"data_copy\\\\\" + b):\n",
    "        for file in files:\n",
    "            base_file, ext = os.path.splitext(file)\n",
    "            if not file.endswith(\".db\"):\n",
    "                im = Image.open(os.path.join(root, file))\n",
    "                if file.endswith(\".tiff\"):#match files that match this extension\n",
    "                    image = im.resize((80, 80))\n",
    "                    os.chdir(os.path.join(cwd, 'dataset\\\\' + a))\n",
    "                    image.save(base_file + '.jpeg')\n",
    "                    os.chdir(cwd)\n",
    "    return\n",
    "convert_to_jpeg('train1', 'train')\n",
    "convert_to_jpeg('valid1', 'valid')\n",
    "convert_to_jpeg('test1', 'test')"
   ]
  },
  {
   "cell_type": "code",
   "execution_count": 3,
   "metadata": {
    "collapsed": true
   },
   "outputs": [],
   "source": [
    "def create_files(a, b):\n",
    "    for root, dir, files in os.walk(\"dataset\\\\\" + a):\n",
    "        for file in files:\n",
    "            file_name = os.path.splitext(file)[0]\n",
    "            new_folder = file_name[-6:-2]\n",
    "            newpath = \"dataset\\\\\" +  b + \"\\\\\" + new_folder\n",
    "            if not os.path.exists(newpath):\n",
    "                os.makedirs(newpath)\n",
    "            if new_folder in file_name:\n",
    "                shutil.move(os.path.join(root, file), newpath)\n",
    "    os.rmdir(root)\n",
    "    return\n",
    "create_files('train1', 'train')\n",
    "create_files('valid1', 'valid')\n",
    "create_files('test1', 'test')"
   ]
  }
 ],
 "metadata": {
  "kernelspec": {
   "display_name": "Python 3",
   "language": "python",
   "name": "python3"
  },
  "language_info": {
   "codemirror_mode": {
    "name": "ipython",
    "version": 3
   },
   "file_extension": ".py",
   "mimetype": "text/x-python",
   "name": "python",
   "nbconvert_exporter": "python",
   "pygments_lexer": "ipython3",
   "version": "3.5.4"
  }
 },
 "nbformat": 4,
 "nbformat_minor": 2
}
