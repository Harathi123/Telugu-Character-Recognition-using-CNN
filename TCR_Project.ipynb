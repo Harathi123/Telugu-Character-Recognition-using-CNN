{
 "cells": [
  {
   "cell_type": "code",
   "execution_count": 1,
   "metadata": {},
   "outputs": [
    {
     "name": "stderr",
     "output_type": "stream",
     "text": [
      "Using TensorFlow backend.\n"
     ]
    },
    {
     "name": "stdout",
     "output_type": "stream",
     "text": [
      "Thers are 138 telugu characters.\n",
      "There are 28586 training character images.\n",
      "There are 4654 valid character images.\n",
      "There are 4371 test character images.\n",
      "Training set (28586, 80, 80) (28586, 138)\n",
      "Valid set (4654, 80, 80) (4654, 138)\n",
      "Test set (4371, 80, 80) (4371, 138)\n"
     ]
    }
   ],
   "source": [
    "import json\n",
    "import time\n",
    "import h5py\n",
    "\n",
    "from sklearn.datasets import load_files    \n",
    "from keras.utils import np_utils\n",
    "import numpy as np\n",
    "from glob import glob\n",
    "from PIL import Image\n",
    "import os\n",
    "from matplotlib import pyplot as plt\n",
    "from keras.preprocessing.image import ImageDataGenerator\n",
    "from sklearn.model_selection import train_test_split\n",
    "\n",
    "# Function to load train and test datasets\n",
    "def load_dataset(path):\n",
    "    data = load_files(path)\n",
    "    char_files = np.array([np.array(Image.open(img).convert('L'), 'f') for img in data['filenames']])\n",
    "    char_labels = np_utils.to_categorical(np.array(data['target']), 138)\n",
    "    return char_files, char_labels\n",
    "\n",
    "np.random.seed(1337)\n",
    "\n",
    "train_images, train_labels = load_dataset('dataset/train')\n",
    "valid_images, valid_labels = load_dataset('dataset/valid')\n",
    "test_images, test_labels = load_dataset('dataset/test')\n",
    "#(train_images, test_images, train_labels, test_labels) = train_test_split(images, labels, test_size=0.3, random_state=seed)\n",
    "num_classes = train_labels.shape[1]\n",
    "\n",
    "print('There are %d telugu characters.' % num_classes)\n",
    "print('There are %d training character images.' % len(train_images))\n",
    "print('There are %d valid character images.'% len(valid_images))\n",
    "print('There are %d test character images.'% len(test_images))\n",
    "\n",
    "print('Training set', train_images.shape, train_labels.shape)\n",
    "print('Valid set', valid_images.shape, valid_labels.shape)\n",
    "print('Test set', test_images.shape, test_labels.shape)"
   ]
  },
  {
   "cell_type": "code",
   "execution_count": 2,
   "metadata": {},
   "outputs": [
    {
     "name": "stdout",
     "output_type": "stream",
     "text": [
      "Training Tensor (28586, 80, 80, 1)\n",
      "Valid set (4654, 80, 80, 1)\n",
      "Test set (4371, 80, 80, 1)\n"
     ]
    }
   ],
   "source": [
    "image_size = 80\n",
    "num_channels = 1 # grayscale\n",
    "\n",
    "def reformat(images):\n",
    "    images = images.reshape((-1, image_size, image_size, num_channels))\n",
    "    return images\n",
    "\n",
    "train_tensors = reformat(train_images).astype('float32')/255\n",
    "valid_tensors = reformat(valid_images).astype('float32')/255\n",
    "test_tensors = reformat(test_images).astype('float32')/255\n",
    "print('Training Tensor', train_tensors.shape)\n",
    "print('Valid set', valid_tensors.shape)\n",
    "print('Test set', test_tensors.shape)"
   ]
  },
  {
   "cell_type": "code",
   "execution_count": 5,
   "metadata": {},
   "outputs": [],
   "source": [
    "import os\n",
    "from keras.preprocessing.image import ImageDataGenerator \n",
    "\n",
    "data_augmentation = False\n",
    "batch_size = 128\n",
    "n_epochs = 20\n",
    "\n",
    "save_dir = os.path.join(os.getcwd(), 'saved_models')\n",
    "model_name = 'keras_cnn_telugu_character_trained_model.h5'\n",
    "if not os.path.isdir(save_dir):\n",
    "    os.makedirs(save_dir)\n",
    "model_path = os.path.join(save_dir, model_name)\n",
    "\n"
   ]
  },
  {
   "cell_type": "code",
   "execution_count": 6,
   "metadata": {},
   "outputs": [],
   "source": [
    "from keras.layers import Conv2D, MaxPooling2D, GlobalAveragePooling2D\n",
    "from keras.layers import Dropout, Flatten, Dense, Activation\n",
    "from keras.models import Sequential\n",
    "from keras.optimizers import Adam, SGD\n",
    "from keras.layers.normalization import BatchNormalization\n",
    "from keras.callbacks import ModelCheckpoint \n",
    "\n",
    "def conv_net_model():\n",
    "    \n",
    "    model = Sequential()\n",
    "    \n",
    "    model.add(Conv2D(32, (5, 5), activation='relu', padding='same', input_shape=(image_size, image_size, 1)))\n",
    "    model.add(MaxPooling2D(pool_size=(2, 2)))\n",
    "    \n",
    "    model.add(Conv2D(32, (3, 3), activation='relu', padding='same'))\n",
    "    model.add(MaxPooling2D(pool_size=(2, 2)))   \n",
    "              \n",
    "    model.add(Conv2D(64, (3, 3), activation='relu', padding='same'))\n",
    "    model.add(MaxPooling2D(pool_size=(2, 2)))\n",
    "              \n",
    "    model.add(Conv2D(128, (3, 3), activation='relu', padding='same'))\n",
    "    model.add(MaxPooling2D(pool_size=(2, 2)))\n",
    "    \n",
    "    model.add(Flatten())\n",
    "\n",
    "    model.add(Dense(512, activation='relu'))              \n",
    "    model.add(Dropout(0.5))\n",
    "    \n",
    "    model.add(Dense(138, activation='softmax'))\n",
    "    \n",
    "    model.summary()\n",
    "    \n",
    "    return model"
   ]
  },
  {
   "cell_type": "code",
   "execution_count": 7,
   "metadata": {},
   "outputs": [
    {
     "name": "stdout",
     "output_type": "stream",
     "text": [
      "_________________________________________________________________\n",
      "Layer (type)                 Output Shape              Param #   \n",
      "=================================================================\n",
      "conv2d_1 (Conv2D)            (None, 80, 80, 32)        832       \n",
      "_________________________________________________________________\n",
      "max_pooling2d_1 (MaxPooling2 (None, 40, 40, 32)        0         \n",
      "_________________________________________________________________\n",
      "conv2d_2 (Conv2D)            (None, 40, 40, 32)        9248      \n",
      "_________________________________________________________________\n",
      "max_pooling2d_2 (MaxPooling2 (None, 20, 20, 32)        0         \n",
      "_________________________________________________________________\n",
      "conv2d_3 (Conv2D)            (None, 20, 20, 64)        18496     \n",
      "_________________________________________________________________\n",
      "max_pooling2d_3 (MaxPooling2 (None, 10, 10, 64)        0         \n",
      "_________________________________________________________________\n",
      "conv2d_4 (Conv2D)            (None, 10, 10, 128)       73856     \n",
      "_________________________________________________________________\n",
      "max_pooling2d_4 (MaxPooling2 (None, 5, 5, 128)         0         \n",
      "_________________________________________________________________\n",
      "flatten_1 (Flatten)          (None, 3200)              0         \n",
      "_________________________________________________________________\n",
      "dense_1 (Dense)              (None, 512)               1638912   \n",
      "_________________________________________________________________\n",
      "dropout_1 (Dropout)          (None, 512)               0         \n",
      "_________________________________________________________________\n",
      "dense_2 (Dense)              (None, 138)               70794     \n",
      "=================================================================\n",
      "Total params: 1,812,138\n",
      "Trainable params: 1,812,138\n",
      "Non-trainable params: 0\n",
      "_________________________________________________________________\n"
     ]
    }
   ],
   "source": [
    "model = conv_net_model()"
   ]
  },
  {
   "cell_type": "code",
   "execution_count": 8,
   "metadata": {},
   "outputs": [
    {
     "name": "stdout",
     "output_type": "stream",
     "text": [
      "Not using data augmentation.\n",
      "Train on 28586 samples, validate on 4654 samples\n",
      "Epoch 1/20\n",
      "28586/28586 [==============================] - 440s 15ms/step - loss: 4.4217 - acc: 0.0747 - val_loss: 2.3859 - val_acc: 0.3954\n",
      "Epoch 2/20\n",
      "28586/28586 [==============================] - 444s 16ms/step - loss: 1.8240 - acc: 0.4985 - val_loss: 0.9702 - val_acc: 0.7209\n",
      "Epoch 3/20\n",
      "28586/28586 [==============================] - 444s 16ms/step - loss: 1.0357 - acc: 0.6932 - val_loss: 0.6335 - val_acc: 0.8135\n",
      "Epoch 4/20\n",
      "28586/28586 [==============================] - 438s 15ms/step - loss: 0.7600 - acc: 0.7661 - val_loss: 0.5370 - val_acc: 0.8429\n",
      "Epoch 5/20\n",
      "28586/28586 [==============================] - 435s 15ms/step - loss: 0.6049 - acc: 0.8100 - val_loss: 0.4944 - val_acc: 0.8550\n",
      "Epoch 6/20\n",
      "28586/28586 [==============================] - 499s 17ms/step - loss: 0.5165 - acc: 0.8364 - val_loss: 0.4505 - val_acc: 0.8717\n",
      "Epoch 7/20\n",
      "28586/28586 [==============================] - 642s 22ms/step - loss: 0.4386 - acc: 0.8597 - val_loss: 0.4379 - val_acc: 0.8739\n",
      "Epoch 8/20\n",
      "28586/28586 [==============================] - 641s 22ms/step - loss: 0.3913 - acc: 0.8725 - val_loss: 0.4312 - val_acc: 0.8818\n",
      "Epoch 9/20\n",
      "28586/28586 [==============================] - 865s 30ms/step - loss: 0.3448 - acc: 0.8882 - val_loss: 0.4314 - val_acc: 0.8835\n",
      "Epoch 10/20\n",
      "28586/28586 [==============================] - 640s 22ms/step - loss: 0.3115 - acc: 0.8952 - val_loss: 0.4188 - val_acc: 0.8827\n",
      "Epoch 11/20\n",
      "28586/28586 [==============================] - 665s 23ms/step - loss: 0.2881 - acc: 0.9037 - val_loss: 0.4194 - val_acc: 0.8825\n",
      "Epoch 12/20\n",
      "28586/28586 [==============================] - 775s 27ms/step - loss: 0.2597 - acc: 0.9133 - val_loss: 0.4229 - val_acc: 0.8838\n",
      "Epoch 13/20\n",
      "28586/28586 [==============================] - 642s 22ms/step - loss: 0.2353 - acc: 0.9206 - val_loss: 0.4288 - val_acc: 0.8855\n",
      "Epoch 14/20\n",
      "28586/28586 [==============================] - 641s 22ms/step - loss: 0.2193 - acc: 0.9255 - val_loss: 0.4221 - val_acc: 0.8848\n",
      "Epoch 15/20\n",
      "28586/28586 [==============================] - 642s 22ms/step - loss: 0.2043 - acc: 0.9285 - val_loss: 0.4383 - val_acc: 0.8850\n",
      "Epoch 16/20\n",
      "28586/28586 [==============================] - 489s 17ms/step - loss: 0.1952 - acc: 0.9334 - val_loss: 0.4322 - val_acc: 0.8887\n",
      "Epoch 17/20\n",
      "28586/28586 [==============================] - 413s 14ms/step - loss: 0.1812 - acc: 0.9380 - val_loss: 0.4320 - val_acc: 0.8891\n",
      "Epoch 18/20\n",
      "28586/28586 [==============================] - 413s 14ms/step - loss: 0.1674 - acc: 0.9434 - val_loss: 0.4431 - val_acc: 0.8900\n",
      "Epoch 19/20\n",
      "28586/28586 [==============================] - 413s 14ms/step - loss: 0.1576 - acc: 0.9445 - val_loss: 0.4456 - val_acc: 0.8896\n",
      "Epoch 20/20\n",
      "28586/28586 [==============================] - 413s 14ms/step - loss: 0.1555 - acc: 0.9465 - val_loss: 0.4453 - val_acc: 0.8921\n",
      "Large CNN Error: 9.24%\n",
      "Test loss: 0.344482174265\n",
      "Test Accuracy : 0.91%\n"
     ]
    }
   ],
   "source": [
    "learning_rate = 0.1\n",
    "decay_rate = learning_rate / n_epochs\n",
    "momentum = 0.8\n",
    "sgd = SGD(lr=learning_rate, momentum=momentum, decay=decay_rate, nesterov=False)\n",
    "\n",
    "checkpointer = ModelCheckpoint(filepath='saved_models/keras_cnn_telugu_char_trained_model.h5', monitor = 'val_loss',  \n",
    "                               verbose=0, save_best_only=True, mode = 'auto')\n",
    "\n",
    "model.compile(loss = 'categorical_crossentropy', optimizer = sgd, metrics = ['accuracy'])\n",
    "\n",
    "timestamp = int(time.time())\n",
    "with open('%d-model.json' %timestamp, 'w') as f:\n",
    "    d = json.loads(model.to_json())\n",
    "    json.dump(d, f, indent = 4)\n",
    "\n",
    "        \n",
    "if data_augmentation:\n",
    "    print('Using real-time data augmentation.')\n",
    "    # This will do preprocessing and realtime data augmentation:\n",
    "    datagen = ImageDataGenerator(\n",
    "        featurewise_center=False,  # set input mean to 0 over the dataset\n",
    "        samplewise_center=False,  # set each sample mean to 0\n",
    "        featurewise_std_normalization=False,  # divide inputs by std of the dataset\n",
    "        samplewise_std_normalization=False,  # divide each input by its std\n",
    "        zca_whitening=False,  # apply ZCA whitening\n",
    "        rotation_range=20,  # randomly rotate images in the range (degrees, 0 to 180)\n",
    "        width_shift_range=0.2,  # randomly shift images horizontally (fraction of total width)\n",
    "        height_shift_range=0.2,  # randomly shift images vertically (fraction of total height)\n",
    "        horizontal_flip=True,  # randomly flip images\n",
    "        vertical_flip=False)  # randomly flip images\n",
    "\n",
    "    # Compute quantities required for feature-wise normalization\n",
    "    # (std, mean, and principal components if ZCA whitening is applied).\n",
    "    datagen.fit(train_tensors)\n",
    "\n",
    "    # Fit the model on the batches generated by datagen.flow().\n",
    "    with h5py.File(model_path, 'r') as f:\n",
    "        history = model.fit_generator(datagen.flow(train_tensors, train_labels,\n",
    "                                     batch_size=32),\n",
    "                        steps_per_epoch=int(np.ceil(train_tensors.shape[0] / float(batch_size))),\n",
    "                        epochs=n_epochs,\n",
    "                        validation_data = (valid_tensors, valid_labels), \n",
    "                        callbacks = [checkpointer], \n",
    "                        verbose = 1)\n",
    "    \n",
    "else:\n",
    "    print('Not using data augmentation.')\n",
    "    \n",
    "    with h5py.File(model_path, 'r') as f:\n",
    "        history = model.fit(train_tensors, train_labels, epochs = n_epochs, validation_data = (valid_tensors, valid_labels), batch_size = 128, shuffle = 'batch', verbose=1)\n",
    "        \n",
    "model.save(model_path)\n",
    "# Final evaluation of the model\n",
    "scores = model.evaluate(test_tensors, test_labels, verbose=0)\n",
    "\n",
    "print('Large CNN Error: %.2f%%' % (100-scores[1]*100))\n",
    "print('Test loss:', scores[0])\n",
    "print('Test Accuracy : %.2f%%' % scores[1])\n",
    "\n",
    "model.save_weights('%d-weights-%f.hdf5' %(timestamp, scores[1]))"
   ]
  },
  {
   "cell_type": "code",
   "execution_count": 9,
   "metadata": {},
   "outputs": [
    {
     "name": "stdout",
     "output_type": "stream",
     "text": [
      "dict_keys(['acc', 'val_loss', 'loss', 'val_acc'])\n"
     ]
    },
    {
     "data": {
      "image/png": "[encoded data removed]",
      "text/plain": [
       "<matplotlib.figure.Figure at 0x28a9cc7edd8>"
      ]
     },
     "metadata": {},
     "output_type": "display_data"
    },
    {
     "data": {
      "image/png": "[encoded data removed]",
      "text/plain": [
       "<matplotlib.figure.Figure at 0x28a9cc38b38>"
      ]
     },
     "metadata": {},
     "output_type": "display_data"
    }
   ],
   "source": [
    "print(history.history.keys())\n",
    "\n",
    "plt.plot(history.history['acc'])\n",
    "plt.plot(history.history['val_acc'])\n",
    "plt.title('model accuracy')\n",
    "plt.ylabel('accuracy')\n",
    "plt.xlabel('epoch')\n",
    "plt.legend(['train', 'test'], loc='upper left')\n",
    "plt.show()\n",
    "plt.plot(history.history['loss'])\n",
    "plt.plot(history.history['val_loss'])\n",
    "plt.title('model loss')\n",
    "plt.ylabel('loss')\n",
    "plt.xlabel('epoch')\n",
    "plt.legend(['train', 'test'], loc='upper left')\n",
    "plt.show()"
   ]
  },
  {
   "cell_type": "code",
   "execution_count": 10,
   "metadata": {},
   "outputs": [],
   "source": [
    "from sklearn.metrics import confusion_matrix\n",
    "preds = model.predict(test_tensors)\n",
    "predicts = np.argmax(preds, axis = 1)\n",
    "Y_test = np.argmax(test_labels, axis =1)"
   ]
  },
  {
   "cell_type": "code",
   "execution_count": 51,
   "metadata": {},
   "outputs": [
    {
     "data": {
      "image/png": "[encoded data removed]",
      "text/plain": [
       "<matplotlib.figure.Figure at 0x28a9e007470>"
      ]
     },
     "metadata": {},
     "output_type": "display_data"
    }
   ],
   "source": [
    "cm = confusion_matrix(Y_test, predicts)\n",
    "plt.matshow(cm)\n",
    "plt.title('Confusion matrix')\n",
    "plt.colorbar()\n",
    "plt.ylabel('True label')\n",
    "plt.xlabel('Predicted label')\n",
    "plt.show()"
   ]
  },
  {
   "cell_type": "code",
   "execution_count": 97,
   "metadata": {},
   "outputs": [
    {
     "name": "stdout",
     "output_type": "stream",
     "text": [
      "Actual_labels  |  Predicted_labels\n",
      "       47      |      47\n",
      "      110      |     110\n",
      "       46      |      41\n",
      "      134      |     134\n",
      "       60      |      60\n",
      "       67      |      67\n",
      "       68      |      68\n",
      "       59      |      59\n",
      "      121      |     121\n",
      "       65      |      65\n",
      "       15      |      15\n",
      "      119      |     119\n",
      "      119      |     119\n",
      "       72      |      72\n",
      "       44      |      44\n",
      "       45      |      45\n",
      "       34      |      34\n",
      "      126      |     128\n",
      "       55      |      55\n",
      "      124      |     124\n",
      "       21      |      21\n",
      "      128      |     128\n",
      "        6      |       6\n",
      "      121      |     121\n",
      "       42      |      42\n",
      "       24      |      24\n",
      "      107      |     107\n",
      "      135      |     135\n",
      "       26      |      26\n",
      "       28      |      28\n",
      "       34      |      34\n",
      "       18      |      18\n",
      "       44      |      44\n",
      "       83      |      58\n",
      "       37      |      37\n",
      "       44      |      44\n",
      "       86      |      86\n",
      "       67      |      67\n",
      "       85      |      85\n",
      "      104      |     104\n",
      "       68      |      68\n",
      "       22      |      22\n",
      "       33      |      33\n",
      "       63      |      63\n",
      "      124      |     124\n",
      "        5      |      98\n",
      "       91      |      91\n",
      "       30      |      30\n",
      "       31      |      31\n",
      "       62      |      62\n"
     ]
    }
   ],
   "source": [
    "print('Actual_labels  |  Predicted_labels')\n",
    "for i in range(50):\n",
    "    print('      %3d      |     %3d' %(Y_test[i], predicts[i]))"
   ]
  }
 ],
 "metadata": {
  "kernelspec": {
   "display_name": "Python 3",
   "language": "python",
   "name": "python3"
  },
  "language_info": {
   "codemirror_mode": {
    "name": "ipython",
    "version": 3
   },
   "file_extension": ".py",
   "mimetype": "text/x-python",
   "name": "python",
   "nbconvert_exporter": "python",
   "pygments_lexer": "ipython3",
   "version": "3.5.4"
  }
 },
 "nbformat": 4,
 "nbformat_minor": 2
}
